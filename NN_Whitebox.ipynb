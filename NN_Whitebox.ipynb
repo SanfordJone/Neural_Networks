{
 "cells": [
  {
   "cell_type": "markdown",
   "id": "826ac134",
   "metadata": {},
   "source": [
    "Wine Quality Neural Network"
   ]
  },
  {
   "cell_type": "code",
   "execution_count": 1,
   "id": "d1807359",
   "metadata": {},
   "outputs": [],
   "source": [
    "from random import *\n",
    "from math import *"
   ]
  },
  {
   "cell_type": "markdown",
   "id": "c7b35dae",
   "metadata": {},
   "source": [
    "INITIALIZING THE NETWORK"
   ]
  },
  {
   "cell_type": "code",
   "execution_count": 2,
   "id": "dbf5b618",
   "metadata": {},
   "outputs": [],
   "source": [
    "\n",
    "def neural_net(input_no , hidden_no , output_no):\n",
    "    network=[] \n",
    "    hidden_layer = [] \n",
    "    output_layer = []\n",
    "        \n",
    "    for i in range(hidden_no):\n",
    "        neuronA={}\n",
    "        weight_listA=[]\n",
    "        for j in range(input_no + 1):\n",
    "            weight_listA.append(random())\n",
    "        neuronA['weight']=weight_listA\n",
    "        hidden_layer.append(neuronA)\n",
    "        \n",
    "    for i in range(output_no):\n",
    "        neuronB={}\n",
    "        weight_listB=[]\n",
    "        for j in range(hidden_no + 1):\n",
    "            weight_listB.append(random())\n",
    "        neuronB['weight']=weight_listB\n",
    "        output_layer.append(neuronB)\n",
    "        \n",
    "        \n",
    "    network.append(hidden_layer)\n",
    "    network.append(output_layer)   \n",
    "    return network"
   ]
  },
  {
   "cell_type": "markdown",
   "id": "4f5118a1",
   "metadata": {},
   "source": [
    "FORWARD PROPAGATE :\n",
    "This has split into 3 parts : Neuron activation, Neuron Transfer and Forward Propagation"
   ]
  },
  {
   "cell_type": "code",
   "execution_count": 3,
   "id": "cccaa267",
   "metadata": {},
   "outputs": [],
   "source": [
    "def activate(weights, inputs):\n",
    "    activation = weights[-1] \n",
    "    for i in range(len(weights)-2):\n",
    "        activation += weights[i] * inputs[i]\n",
    "    return activation\n",
    " \n",
    "# Transfer neuron activation\n",
    "def transfer(activation):\n",
    "    return max(0.0,activation)\n",
    "\n",
    "# Forward propagate input to a network output\n",
    "def forward_propagation(network, row):\n",
    "    inputs = row\n",
    "    for layer in network:\n",
    "        new_inputs = []\n",
    "        for neuron in layer:\n",
    "            activation = activate(neuron['weight'], inputs)\n",
    "            neuron['output'] = transfer(activation)\n",
    "            new_inputs.append(neuron['output'])\n",
    "        inputs = new_inputs\n",
    "    return inputs\n",
    "\n",
    "# Make a prediction with a network\n",
    "def predict(network, row):\n",
    "    outputs = forward_propagation(network, row)\n",
    "    return outputs.index(max(outputs))"
   ]
  },
  {
   "cell_type": "code",
   "execution_count": 4,
   "id": "f6e53750",
   "metadata": {},
   "outputs": [],
   "source": [
    "# Calculate the derivative of an neuron output\n",
    "def sigmoid_derivative(output):\n",
    "    return output * (1.0 - output)\n",
    "\n",
    "def relu_derivative(output):\n",
    "0\n",
    "\n",
    "# Backpropagate error and store in neurons\n",
    "def backward_propagate_error(network, expected):\n",
    "    for i in range(len(network)-1,-1,-1):\n",
    "        layer = network[i] \n",
    "        errors = list()\n",
    "        if i != len(network)-1:\n",
    "            for j in range(len(layer)):\n",
    "                error = 0.0\n",
    "                for neuron in network[i + 1]:\n",
    "                    error += (neuron['weight'][j] * neuron['delta'])\n",
    "                errors.append(error)\n",
    "        else:\n",
    "            for j in range(len(layer)):\n",
    "                neuron = layer[j] \n",
    "                errors.append(neuron['output'] - expected[j])\n",
    "        for j in range(len(layer)):\n",
    "            neuron = layer[j]\n",
    "            neuron['delta'] = errors[j] * sigmoid_derivative(neuron['output'])"
   ]
  },
  {
   "cell_type": "code",
   "execution_count": 5,
   "id": "90e358ed",
   "metadata": {},
   "outputs": [],
   "source": [
    "def update_weights(network, row, l_rate):\n",
    "    for i in range(len(network)):\n",
    "        inputs = row[:-1]\n",
    "        if i != 0:\n",
    "            inputs = [neuron['output'] for neuron in network[i - 1]]\n",
    "        for neuron in network[i]:\n",
    "            for j in range(len(inputs)):\n",
    "                neuron['weight'][j] -= l_rate * neuron['delta'] * inputs[j]\n",
    "            neuron['weight'][-1] -= l_rate * neuron['delta']"
   ]
  },
  {
   "cell_type": "code",
   "execution_count": 6,
   "id": "ff5da286",
   "metadata": {},
   "outputs": [],
   "source": [
    "#training the network\n",
    "def train_network(network, train, l_rate, n_epoch, n_outputs):\n",
    "    for epoch in range(n_epoch):\n",
    "        sum_error = 0\n",
    "        for row in train:\n",
    "            outputs = forward_propagation(network, row)\n",
    "            desired = [0 for i in range(n_outputs)]\n",
    "            desired[row[-1]] = 1\n",
    "            sum_error += sum([(desired[i]-outputs[i])**2 for i in range(len(desired))])\n",
    "            backward_propagate_error(network, desired)\n",
    "            update_weights(network, row, l_rate)\n",
    "        print('epoch=%d, lrate=%.3f, error=%.3f' % (epoch, l_rate, sum_error))"
   ]
  },
  {
   "cell_type": "markdown",
   "id": "740f22d7",
   "metadata": {},
   "source": [
    "IMPORTING THE DATASET"
   ]
  },
  {
   "cell_type": "code",
   "execution_count": 7,
   "id": "38ae2671",
   "metadata": {},
   "outputs": [],
   "source": [
    "from csv import *"
   ]
  },
  {
   "cell_type": "code",
   "execution_count": 8,
   "id": "219fdba5",
   "metadata": {},
   "outputs": [],
   "source": [
    "# Load a CSV file\n",
    "def load_csv(filename):\n",
    "    dataset = list()\n",
    "    with open(filename, 'r') as file:\n",
    "        csv_reader = reader(file)\n",
    "        rec = next(csv_reader)\n",
    "        for row in csv_reader:\n",
    "            if not row:\n",
    "                continue\n",
    "            dataset.append(row)\n",
    "    return dataset"
   ]
  },
  {
   "cell_type": "code",
   "execution_count": 9,
   "id": "47cb0bb9",
   "metadata": {},
   "outputs": [],
   "source": [
    "# Convert string column to float\n",
    "def str_column_to_float(dataset, column):\n",
    "    for row in dataset:\n",
    "        row[column] = float(row[column].strip())\n",
    " \n",
    " #Convert string column to integer\n",
    "def str_column_to_int(dataset, column):\n",
    "    class_values = [row[column] for row in dataset]\n",
    "    unique = set(class_values)\n",
    "    lookup = dict()\n",
    "    for i, value in enumerate(unique):\n",
    "        lookup[value] = i\n",
    "    for row in dataset:\n",
    "        row[column] = lookup[row[column]]\n",
    "    return lookup"
   ]
  },
  {
   "cell_type": "code",
   "execution_count": 10,
   "id": "e02158c5",
   "metadata": {},
   "outputs": [],
   "source": [
    "# Find the min and max values for each column\n",
    "def dataset_minmax(dataset):\n",
    "    minmax = list()\n",
    "    stats = [[min(column), max(column)] for column in zip(*dataset)]\n",
    "    return stats"
   ]
  },
  {
   "cell_type": "code",
   "execution_count": 11,
   "id": "d56c848b",
   "metadata": {},
   "outputs": [],
   "source": [
    "#normalize the data using min-max normalization so that 0-1 is the range\n",
    "def normalization(dataset, minmax):\n",
    "    for row in dataset:\n",
    "        for i in range(len(row)-1):\n",
    "            row[i] = (row[i] - minmax[i][0]) / (minmax[i][1] - minmax[i][0])"
   ]
  },
  {
   "cell_type": "code",
   "execution_count": 12,
   "id": "68a874b8",
   "metadata": {},
   "outputs": [],
   "source": [
    "# Backpropagation Algorithm With Stochastic Gradient Descent\n",
    "def back_propagation(train, test, l_rate, epochs, hidden_no):\n",
    "    input_no = len(train[0]) - 1\n",
    "    outputs_no = len(set([row[-1] for row in train]))\n",
    "    network = neural_net(input_no, hidden_no, outputs_no)\n",
    "    train_network(network, train, l_rate, epochs, outputs_no)\n",
    "    predictions = list()\n",
    "    for row in test:\n",
    "        prediction = predict(network, row)\n",
    "        predictions.append(prediction)\n",
    "    return(predictions)"
   ]
  },
  {
   "cell_type": "code",
   "execution_count": 13,
   "id": "0ed755a0",
   "metadata": {},
   "outputs": [],
   "source": [
    "# Split a dataset into k folds\n",
    "def cross_validation_split(dataset, n_folds):\n",
    "    dataset_split = list()\n",
    "    dataset_copy = list(dataset)\n",
    "    fold_size = int(len(dataset) / n_folds)\n",
    "    for i in range(n_folds):\n",
    "        fold = list()\n",
    "        while len(fold) < fold_size:\n",
    "            index = randrange(len(dataset_copy))\n",
    "            fold.append(dataset_copy.pop(index))\n",
    "        dataset_split.append(fold)\n",
    "    return dataset_split\n",
    " \n",
    "# Calculate accuracy percentage\n",
    "def accuracy_metric(actual, predicted):\n",
    "    correct = 0\n",
    "    for i in range(len(actual)):\n",
    "        if actual[i] == predicted[i]:\n",
    "            correct += 1\n",
    "    return correct / float(len(actual)) * 100.0\n",
    " \n",
    "# Evaluate an algorithm using a cross validation split\n",
    "def evaluate_algorithm(dataset, algorithm, n_folds, *args):\n",
    "    folds = cross_validation_split(dataset, n_folds)\n",
    "    scores = list()\n",
    "    for fold in folds:\n",
    "        train_set = list(folds)\n",
    "        train_set.remove(fold)\n",
    "        train_set = sum(train_set, [])\n",
    "        test_set = list()\n",
    "        for row in fold:\n",
    "            row_copy = list(row)\n",
    "            test_set.append(row_copy)\n",
    "            row_copy[-1] = None\n",
    "        predicted = algorithm(train_set, test_set, *args)\n",
    "        actual = [row[-1] for row in fold]\n",
    "        accuracy = accuracy_metric(actual, predicted)\n",
    "        scores.append(accuracy)\n",
    "    return scores"
   ]
  },
  {
   "cell_type": "code",
   "execution_count": 14,
   "id": "f4e3a6d2",
   "metadata": {},
   "outputs": [
    {
     "name": "stdout",
     "output_type": "stream",
     "text": [
      "epoch=0, lrate=0.200, error=1029.784\n",
      "epoch=1, lrate=0.200, error=851.586\n",
      "epoch=2, lrate=0.200, error=849.260\n",
      "epoch=3, lrate=0.200, error=846.186\n",
      "epoch=4, lrate=0.200, error=841.583\n",
      "epoch=0, lrate=0.200, error=1109.749\n",
      "epoch=1, lrate=0.200, error=840.281\n",
      "epoch=2, lrate=0.200, error=837.410\n",
      "epoch=3, lrate=0.200, error=833.305\n",
      "epoch=4, lrate=0.200, error=826.627\n",
      "epoch=0, lrate=0.200, error=1106.368\n",
      "epoch=1, lrate=0.200, error=835.645\n",
      "epoch=2, lrate=0.200, error=828.627\n",
      "epoch=3, lrate=0.200, error=816.843\n",
      "epoch=4, lrate=0.200, error=800.953\n",
      "epoch=0, lrate=0.200, error=1295.441\n",
      "epoch=1, lrate=0.200, error=841.568\n",
      "epoch=2, lrate=0.200, error=836.887\n",
      "epoch=3, lrate=0.200, error=829.238\n",
      "epoch=4, lrate=0.200, error=817.457\n",
      "epoch=0, lrate=0.200, error=1266.165\n",
      "epoch=1, lrate=0.200, error=838.949\n",
      "epoch=2, lrate=0.200, error=830.699\n",
      "epoch=3, lrate=0.200, error=817.060\n",
      "epoch=4, lrate=0.200, error=799.298\n",
      "Scores: [40.43887147335423, 32.9153605015674, 39.811912225705335, 42.31974921630094, 46.08150470219436]\n",
      "Mean Accuracy:  40.313479623824456\n"
     ]
    }
   ],
   "source": [
    "seed(1) \n",
    "# load and prepare data\n",
    "filename = 'winequality-red.csv'\n",
    "dataset = load_csv(filename)\n",
    "for i in range(len(dataset[0])-1):\n",
    "    str_column_to_float(dataset, i) \n",
    "    \n",
    "# convert class column to integers\n",
    "str_column_to_int(dataset, len(dataset[0])-1)\n",
    "minmax = dataset_minmax(dataset)\n",
    "normalization(dataset, minmax)\n",
    "\n",
    "\n",
    "# evaluate algorithm\n",
    "n_folds = 5\n",
    "l_rate = 0.2\n",
    "epochs = 5\n",
    "hidden_no = 10\n",
    "scores = evaluate_algorithm(dataset, back_propagation, n_folds, l_rate, epochs, hidden_no)\n",
    "print('Scores:' , scores)\n",
    "print('Mean Accuracy: ' , ( sum(scores)/float ( len(scores) ) ) )"
   ]
  },
  {
   "cell_type": "code",
   "execution_count": null,
   "id": "adf251ea",
   "metadata": {},
   "outputs": [],
   "source": []
  }
 ],
 "metadata": {
  "kernelspec": {
   "display_name": "Python 3",
   "language": "python",
   "name": "python3"
  },
  "language_info": {
   "codemirror_mode": {
    "name": "ipython",
    "version": 3
   },
   "file_extension": ".py",
   "mimetype": "text/x-python",
   "name": "python",
   "nbconvert_exporter": "python",
   "pygments_lexer": "ipython3",
   "version": "3.8.8"
  }
 },
 "nbformat": 4,
 "nbformat_minor": 5
}
